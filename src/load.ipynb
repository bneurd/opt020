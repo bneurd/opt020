{
 "cells": [
  {
   "cell_type": "markdown",
   "metadata": {},
   "source": [
    "# Carregamento do dataset\n",
    "\n",
    "### Informações gravadas em: https://github.com/bneurd/opt020"
   ]
  },
  {
   "cell_type": "code",
   "execution_count": 1,
   "metadata": {},
   "outputs": [
    {
     "name": "stdout",
     "output_type": "stream",
     "text": [
      "[[7.5 8.2 7.  8.2 6.  7.5 6.  6.  8.2 8.2]]\n"
     ]
    },
    {
     "data": {
      "text/plain": [
       "(8192, 10)"
      ]
     },
     "execution_count": 1,
     "metadata": {},
     "output_type": "execute_result"
    }
   ],
   "source": [
    "from scipy.io import loadmat\n",
    "\n",
    "f = loadmat(\"../multi/Sub1_1_multitarget.mat\")\n",
    "print(f['Data'][0][0][8])\n",
    "f['Data'][0][0][7].shape"
   ]
  },
  {
   "cell_type": "markdown",
   "metadata": {},
   "source": [
    "Dado o exemplo acima, faça o carregamento dos cinco participantes, contatenando suas seções ou *trials*. Basta em um `for` externo aumentar a dimensionalidade para a quantidade de participantes e em um `for` interno, concatenar as seções com dez (10) *targets* cada uma.\n",
    "\n",
    "Ao final, teremos um *shape* igual a `(5, 8192, 20)`."
   ]
  }
 ],
 "metadata": {
  "kernelspec": {
   "display_name": "venv",
   "language": "python",
   "name": "python3"
  },
  "language_info": {
   "codemirror_mode": {
    "name": "ipython",
    "version": 3
   },
   "file_extension": ".py",
   "mimetype": "text/x-python",
   "name": "python",
   "nbconvert_exporter": "python",
   "pygments_lexer": "ipython3",
   "version": "3.12.3"
  }
 },
 "nbformat": 4,
 "nbformat_minor": 2
}
