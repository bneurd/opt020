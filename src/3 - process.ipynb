{
 "cells": [
  {
   "cell_type": "markdown",
   "metadata": {},
   "source": [
    "# Classificação por isolamento de frequência\n",
    "\n",
    "Neste notebook será realizado um exemplo de classificação, isolando todas as frequências estimuladas no conjunto de dados AVI SSVEP simplificado para um participante.\n",
    "\n",
    "### Passos para a realização da classificação:\n",
    "\n",
    "1. Carrega o arquivo fif (mne.EpochsArray);\n",
    "2. Obter a \"energia\" do sinal por meio do cálculo `compute_psd` para os dados no domínio do tempo;\n",
    "4. Com os dados PSD, encontre o valor máximo para cada _trial_ e compare com o valor que está sendo evocado.\n",
    "5. Por fim, acumule os acertos para mostrar uma acurácia simples."
   ]
  }
 ],
 "metadata": {
  "language_info": {
   "name": "python"
  }
 },
 "nbformat": 4,
 "nbformat_minor": 2
}
